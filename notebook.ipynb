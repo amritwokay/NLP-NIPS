{
  "nbformat": 4,
  "nbformat_minor": 0,
  "metadata": {
    "language_info": {
      "name": "python",
      "nbconvert_exporter": "python",
      "file_extension": ".py",
      "codemirror_mode": {
        "name": "ipython",
        "version": 3
      },
      "version": "3.5.2",
      "pygments_lexer": "ipython3",
      "mimetype": "text/x-python"
    },
    "kernelspec": {
      "name": "python3",
      "language": "python",
      "display_name": "Python 3"
    },
    "colab": {
      "name": "notebook.ipynb",
      "provenance": [],
      "toc_visible": true
    }
  },
  "cells": [
    {
      "cell_type": "markdown",
      "metadata": {
        "deletable": false,
        "run_control": {
          "frozen": true
        },
        "dc": {
          "key": "4"
        },
        "tags": [
          "context"
        ],
        "editable": false,
        "id": "1XL5_s1n9nzg"
      },
      "source": [
        "## 1. Loading the NIPS papers\n",
        "<p>The NIPS conference (Neural Information Processing Systems) is one of the most prestigious yearly events in the machine learning community. At each NIPS conference, a large number of research papers are published. Over 50,000 PDF files were automatically downloaded and processed to obtain a dataset on various machine learning techniques. These NIPS papers are stored in <code>datasets/papers.csv</code>. The CSV file contains information on the different NIPS papers that were published from 1987 until 2017 (30 years!). These papers discuss a wide variety of topics in machine learning, from neural networks to optimization methods and many more.\n",
        "<img src=\"https://assets.datacamp.com/production/project_158/img/nips_logo.png\" alt=\"The logo of NIPS (Neural Information Processing Systems)\"></p>\n",
        "<p>First, we will explore the CSV file to determine what type of data we can use for the analysis and how it is structured. A research paper typically consists of a title, an abstract and the main text. Other data such as figures and tables were not extracted from the PDF files. Each paper discusses a novel technique or improvement. In this analysis, we will focus on analyzing these papers with natural language processing methods.</p>"
      ]
    },
    {
      "cell_type": "code",
      "metadata": {
        "colab": {
          "base_uri": "https://localhost:8080/"
        },
        "id": "hQSUTumQ_dan",
        "outputId": "ab004321-d9b6-4401-8381-8fa8d1a51ad2"
      },
      "source": [
        "\n",
        "import os\n",
        "os.environ['KAGGLE_USERNAME'] = \"amritanshupandey\" # username from the json file\n",
        "os.environ['KAGGLE_KEY'] = \"0f720527ea837e4d96e4b395fe14c251\" # key from the json file\n",
        "!kaggle datasets download -d benhamner/nips-papers"
      ],
      "execution_count": null,
      "outputs": [
        {
          "output_type": "stream",
          "text": [
            "Downloading nips-papers.zip to /content\n",
            "100% 141M/141M [00:02<00:00, 63.3MB/s]\n",
            "\n"
          ],
          "name": "stdout"
        }
      ]
    },
    {
      "cell_type": "code",
      "metadata": {
        "colab": {
          "base_uri": "https://localhost:8080/"
        },
        "id": "MeYtYkvjBjnN",
        "outputId": "025566b1-3544-4a8a-ddd4-e3b159a942b6"
      },
      "source": [
        "!unzip /content/nips-papers.zip"
      ],
      "execution_count": null,
      "outputs": [
        {
          "output_type": "stream",
          "text": [
            "Archive:  /content/nips-papers.zip\n",
            "  inflating: authors.csv             \n",
            "  inflating: database.sqlite         \n",
            "  inflating: paper_authors.csv       \n",
            "  inflating: papers.csv              \n"
          ],
          "name": "stdout"
        }
      ]
    },
    {
      "cell_type": "code",
      "metadata": {
        "trusted": true,
        "dc": {
          "key": "4"
        },
        "tags": [
          "sample_code"
        ],
        "colab": {
          "base_uri": "https://localhost:8080/",
          "height": 164
        },
        "id": "88GIiN0h9nzj",
        "outputId": "85a6cd3e-2b51-4bf2-e68a-d2da9ae73c0f"
      },
      "source": [
        "# Importing modules\n",
        "import pandas as pd\n",
        "\n",
        "# Read datasets/papers.csv into papers\n",
        "papers = pd.read_csv(\"/content/papers.csv\")\n",
        "\n",
        "# Print out the first rows of papers\n",
        "papers.head(2)"
      ],
      "execution_count": null,
      "outputs": [
        {
          "output_type": "execute_result",
          "data": {
            "text/html": [
              "<div>\n",
              "<style scoped>\n",
              "    .dataframe tbody tr th:only-of-type {\n",
              "        vertical-align: middle;\n",
              "    }\n",
              "\n",
              "    .dataframe tbody tr th {\n",
              "        vertical-align: top;\n",
              "    }\n",
              "\n",
              "    .dataframe thead th {\n",
              "        text-align: right;\n",
              "    }\n",
              "</style>\n",
              "<table border=\"1\" class=\"dataframe\">\n",
              "  <thead>\n",
              "    <tr style=\"text-align: right;\">\n",
              "      <th></th>\n",
              "      <th>id</th>\n",
              "      <th>year</th>\n",
              "      <th>title</th>\n",
              "      <th>event_type</th>\n",
              "      <th>pdf_name</th>\n",
              "      <th>abstract</th>\n",
              "      <th>paper_text</th>\n",
              "    </tr>\n",
              "  </thead>\n",
              "  <tbody>\n",
              "    <tr>\n",
              "      <th>0</th>\n",
              "      <td>1</td>\n",
              "      <td>1987</td>\n",
              "      <td>Self-Organization of Associative Database and ...</td>\n",
              "      <td>NaN</td>\n",
              "      <td>1-self-organization-of-associative-database-an...</td>\n",
              "      <td>Abstract Missing</td>\n",
              "      <td>767\\n\\nSELF-ORGANIZATION OF ASSOCIATIVE DATABA...</td>\n",
              "    </tr>\n",
              "    <tr>\n",
              "      <th>1</th>\n",
              "      <td>10</td>\n",
              "      <td>1987</td>\n",
              "      <td>A Mean Field Theory of Layer IV of Visual Cort...</td>\n",
              "      <td>NaN</td>\n",
              "      <td>10-a-mean-field-theory-of-layer-iv-of-visual-c...</td>\n",
              "      <td>Abstract Missing</td>\n",
              "      <td>683\\n\\nA MEAN FIELD THEORY OF LAYER IV OF VISU...</td>\n",
              "    </tr>\n",
              "  </tbody>\n",
              "</table>\n",
              "</div>"
            ],
            "text/plain": [
              "   id  ...                                         paper_text\n",
              "0   1  ...  767\\n\\nSELF-ORGANIZATION OF ASSOCIATIVE DATABA...\n",
              "1  10  ...  683\\n\\nA MEAN FIELD THEORY OF LAYER IV OF VISU...\n",
              "\n",
              "[2 rows x 7 columns]"
            ]
          },
          "metadata": {
            "tags": []
          },
          "execution_count": 3
        }
      ]
    },
    {
      "cell_type": "markdown",
      "metadata": {
        "deletable": false,
        "run_control": {
          "frozen": true
        },
        "dc": {
          "key": "11"
        },
        "tags": [
          "context"
        ],
        "editable": false,
        "id": "Y_5gtLk_9nzm"
      },
      "source": [
        "## 2. Preparing the data for analysis\n",
        "<p>For the analysis of the papers, we are only interested in the text data associated with the paper as well as the year the paper was published in.</p>\n",
        "<p>We will analyze this text data using natural language processing.  Since the file contains some metadata such as id's and filenames, it is necessary to remove all the columns that do not contain useful text information.</p>"
      ]
    },
    {
      "cell_type": "code",
      "metadata": {
        "trusted": true,
        "dc": {
          "key": "11"
        },
        "tags": [
          "sample_code"
        ],
        "id": "VGJV99mH9nzm",
        "outputId": "ed8e715e-1074-43d8-fdec-6d57ee6bed67"
      },
      "source": [
        "# Remove the columns\n",
        "papers.drop([\"id\", \"event_type\", \"pdf_name\"], axis = 1, inplace = True)\n",
        "\n",
        "# Print out the first rows of papers\n",
        "papers.head()"
      ],
      "execution_count": null,
      "outputs": [
        {
          "output_type": "execute_result",
          "data": {
            "text/plain": [
              "   year                                              title          abstract  \\\n",
              "0  1987  Self-Organization of Associative Database and ...  Abstract Missing   \n",
              "1  1987  A Mean Field Theory of Layer IV of Visual Cort...  Abstract Missing   \n",
              "2  1988  Storing Covariance by the Associative Long-Ter...  Abstract Missing   \n",
              "3  1994  Bayesian Query Construction for Neural Network...  Abstract Missing   \n",
              "4  1994  Neural Network Ensembles, Cross Validation, an...  Abstract Missing   \n",
              "\n",
              "                                          paper_text  \n",
              "0  767\\n\\nSELF-ORGANIZATION OF ASSOCIATIVE DATABA...  \n",
              "1  683\\n\\nA MEAN FIELD THEORY OF LAYER IV OF VISU...  \n",
              "2  394\\n\\nSTORING COVARIANCE BY THE ASSOCIATIVE\\n...  \n",
              "3  Bayesian Query Construction for Neural\\nNetwor...  \n",
              "4  Neural Network Ensembles, Cross\\nValidation, a...  "
            ],
            "text/html": [
              "<div>\n",
              "<style scoped>\n",
              "    .dataframe tbody tr th:only-of-type {\n",
              "        vertical-align: middle;\n",
              "    }\n",
              "\n",
              "    .dataframe tbody tr th {\n",
              "        vertical-align: top;\n",
              "    }\n",
              "\n",
              "    .dataframe thead th {\n",
              "        text-align: right;\n",
              "    }\n",
              "</style>\n",
              "<table border=\"1\" class=\"dataframe\">\n",
              "  <thead>\n",
              "    <tr style=\"text-align: right;\">\n",
              "      <th></th>\n",
              "      <th>year</th>\n",
              "      <th>title</th>\n",
              "      <th>abstract</th>\n",
              "      <th>paper_text</th>\n",
              "    </tr>\n",
              "  </thead>\n",
              "  <tbody>\n",
              "    <tr>\n",
              "      <th>0</th>\n",
              "      <td>1987</td>\n",
              "      <td>Self-Organization of Associative Database and ...</td>\n",
              "      <td>Abstract Missing</td>\n",
              "      <td>767\\n\\nSELF-ORGANIZATION OF ASSOCIATIVE DATABA...</td>\n",
              "    </tr>\n",
              "    <tr>\n",
              "      <th>1</th>\n",
              "      <td>1987</td>\n",
              "      <td>A Mean Field Theory of Layer IV of Visual Cort...</td>\n",
              "      <td>Abstract Missing</td>\n",
              "      <td>683\\n\\nA MEAN FIELD THEORY OF LAYER IV OF VISU...</td>\n",
              "    </tr>\n",
              "    <tr>\n",
              "      <th>2</th>\n",
              "      <td>1988</td>\n",
              "      <td>Storing Covariance by the Associative Long-Ter...</td>\n",
              "      <td>Abstract Missing</td>\n",
              "      <td>394\\n\\nSTORING COVARIANCE BY THE ASSOCIATIVE\\n...</td>\n",
              "    </tr>\n",
              "    <tr>\n",
              "      <th>3</th>\n",
              "      <td>1994</td>\n",
              "      <td>Bayesian Query Construction for Neural Network...</td>\n",
              "      <td>Abstract Missing</td>\n",
              "      <td>Bayesian Query Construction for Neural\\nNetwor...</td>\n",
              "    </tr>\n",
              "    <tr>\n",
              "      <th>4</th>\n",
              "      <td>1994</td>\n",
              "      <td>Neural Network Ensembles, Cross Validation, an...</td>\n",
              "      <td>Abstract Missing</td>\n",
              "      <td>Neural Network Ensembles, Cross\\nValidation, a...</td>\n",
              "    </tr>\n",
              "  </tbody>\n",
              "</table>\n",
              "</div>"
            ]
          },
          "metadata": {
            "tags": []
          },
          "execution_count": 17
        }
      ]
    },
    {
      "cell_type": "markdown",
      "metadata": {
        "deletable": false,
        "run_control": {
          "frozen": true
        },
        "dc": {
          "key": "18"
        },
        "tags": [
          "context"
        ],
        "editable": false,
        "id": "Dp0N7uaV9nzn"
      },
      "source": [
        "## 3. Plotting how machine learning has evolved over time\n",
        "<p>In order to understand how the machine learning field has recently exploded in popularity, we will begin by visualizing the number of publications per year. </p>\n",
        "<p>By looking at the number of published papers per year,  we can understand the extent of the machine learning 'revolution'! Typically, this significant increase in popularity is attributed to the large amounts of compute power, data and improvements in algorithms.</p>"
      ]
    },
    {
      "cell_type": "code",
      "metadata": {
        "trusted": true,
        "dc": {
          "key": "18"
        },
        "tags": [
          "sample_code"
        ],
        "id": "-vks83yP9nzo",
        "outputId": "0bcb12f2-dcb7-40de-bf13-ac3811a198e1"
      },
      "source": [
        "# Group the papers by year\n",
        "groups = papers.groupby(\"year\")\n",
        "# Determine the size of each group\n",
        "counts = groups.size()\n",
        "# Visualise the counts as a bar plot\n",
        "import matplotlib.pyplot\n",
        "%matplotlib inline\n",
        "# -- YOUR CODE HERE --\n",
        "counts.plot(kind='bar')"
      ],
      "execution_count": null,
      "outputs": [
        {
          "output_type": "execute_result",
          "data": {
            "text/plain": [
              "<matplotlib.axes._subplots.AxesSubplot at 0x7f5ddc377ef0>"
            ]
          },
          "metadata": {
            "tags": []
          },
          "execution_count": 19
        },
        {
          "output_type": "display_data",
          "data": {
            "image/png": "[encoded data removed]",
            "text/plain": [
              "<Figure size 432x288 with 1 Axes>"
            ]
          },
          "metadata": {
            "tags": []
          }
        }
      ]
    },
    {
      "cell_type": "markdown",
      "metadata": {
        "deletable": false,
        "run_control": {
          "frozen": true
        },
        "dc": {
          "key": "25"
        },
        "tags": [
          "context"
        ],
        "editable": false,
        "id": "o7Jc_EiK9nzo"
      },
      "source": [
        "## 4. Preprocessing the text data\n",
        "<p>Let's now analyze the titles of the different papers to identify machine learning trends. First, we will perform some simple preprocessing on the titles in order to make them more amenable for analysis. We will use a regular expression to remove any punctuation in the title. Then we will perform lowercasing. We'll then print the titles of the first rows before and after applying the modification.</p>"
      ]
    },
    {
      "cell_type": "code",
      "metadata": {
        "trusted": true,
        "dc": {
          "key": "25"
        },
        "tags": [
          "sample_code"
        ],
        "id": "PszPl9mD9nzp",
        "outputId": "3093e6cb-4976-4151-8a19-5054c4749a44"
      },
      "source": [
        "# Load the regular expression library\n",
        "import re\n",
        "\n",
        "\n",
        "# Print the titles of the first rows \n",
        "print(papers['title'].head())\n",
        "\n",
        "# Remove punctuation\n",
        "papers['title_processed'] = papers['title'].map(lambda x: re.sub('[,\\.!?]', '', x))\n",
        "\n",
        "# Convert the titles to lowercase\n",
        "papers['title_processed'] = papers['title_processed'].map(lambda x: x.lower())\n",
        "\n",
        "# Print the processed titles of the first rows \n",
        "papers['title_processed']"
      ],
      "execution_count": null,
      "outputs": [
        {
          "output_type": "stream",
          "text": [
            "0    Self-Organization of Associative Database and ...\n",
            "1    A Mean Field Theory of Layer IV of Visual Cort...\n",
            "2    Storing Covariance by the Associative Long-Ter...\n",
            "3    Bayesian Query Construction for Neural Network...\n",
            "4    Neural Network Ensembles, Cross Validation, an...\n",
            "Name: title, dtype: object\n"
          ],
          "name": "stdout"
        },
        {
          "output_type": "execute_result",
          "data": {
            "text/plain": [
              "0       self-organization of associative database and ...\n",
              "1       a mean field theory of layer iv of visual cort...\n",
              "2       storing covariance by the associative long-ter...\n",
              "3       bayesian query construction for neural network...\n",
              "4       neural network ensembles cross validation and ...\n",
              "5       using a neural net to instantiate a deformable...\n",
              "6                plasticity-mediated competitive learning\n",
              "7       iceg morphology classification using an analog...\n",
              "8       real-time control of a tokamak plasma using ne...\n",
              "9       pulsestream synapses with non-volatile analogu...\n",
              "10                     learning to play the game of chess\n",
              "11           multidimensional scaling and data clustering\n",
              "12      an experimental comparison of recurrent neural...\n",
              "13      training multilayer perceptrons with the exten...\n",
              "14      interference in learning internal models of in...\n",
              "15                active learning with statistical models\n",
              "16      a rapid graph-based method for arbitrary trans...\n",
              "17      ocular dominance and patterned lateral connect...\n",
              "18      associative decorrelation dynamics: a theory o...\n",
              "19      a connectionist technique for accelerated text...\n",
              "20      connectionist speaker normalization with gener...\n",
              "21      a critical comparison of models for orientatio...\n",
              "22      generalization in reinforcement learning: safe...\n",
              "23      a mixture model system for medical and machine...\n",
              "24      an application of the principle of maximum inf...\n",
              "25      a computational model of prefrontal cortex fun...\n",
              "26           the gamma mlp for speech phoneme recognition\n",
              "27      a multiscale attentional framework for relaxat...\n",
              "28      correlated neuronal response: time scales and ...\n",
              "29                         onset-based sound segmentation\n",
              "                              ...                        \n",
              "7211    combining estimators using non-constant weight...\n",
              "7212    a model of the hippocampus combining self-orga...\n",
              "7213    catastrophic interference in human motor learning\n",
              "7214    model of a biological neuron as a temporal neu...\n",
              "7215                              dynamic cell structures\n",
              "7216                      on-line learning of dichotomies\n",
              "7217    new algorithms for 2d and 3d point matching: p...\n",
              "7218                          pattern playback in the 90s\n",
              "7219    learning in large linear perceptrons and why t...\n",
              "7220    spreading activation over distributed microfea...\n",
              "7221    interior point implementations of alternating ...\n",
              "7222    reinforcement learning with soft state aggrega...\n",
              "7223    coarse-to-fine image search using neural networks\n",
              "7224        on the computational utility of consciousness\n",
              "7225          a convolutional neural network hand tracker\n",
              "7226    efficient methods for dealing with missing dat...\n",
              "7227        grammar learning by a self-organizing network\n",
              "7228    recurrent networks: second order properties an...\n",
              "7229    comparing the prediction accuracy of artificia...\n",
              "7230     convergence properties of the k-means algorithms\n",
              "7231    analog implementation of shunting neural networks\n",
              "7232                          learning with product units\n",
              "7233    stochastic dynamics of three-state neural netw...\n",
              "7234    grouping components of three-dimensional movin...\n",
              "7235    visual speech recognition with stochastic netw...\n",
              "7236                  single transistor learning synapses\n",
              "7237    bias variance and the combination of least squ...\n",
              "7238            a real time clustering cmos neural engine\n",
              "7239    learning direction in global motion: two class...\n",
              "7240    correlation and interpolation networks for rea...\n",
              "Name: title_processed, Length: 7241, dtype: object"
            ]
          },
          "metadata": {
            "tags": []
          },
          "execution_count": 21
        }
      ]
    },
    {
      "cell_type": "markdown",
      "metadata": {
        "deletable": false,
        "run_control": {
          "frozen": true
        },
        "dc": {
          "key": "32"
        },
        "tags": [
          "context"
        ],
        "editable": false,
        "id": "TLY8edF59nzq"
      },
      "source": [
        "## 5.  A word cloud to visualize the preprocessed text data\n",
        "<p>In order to verify whether the preprocessing happened correctly, we can make a word cloud of the titles of the research papers. This will give us a visual representation of the most common words. Visualisation is key to understanding whether we are still on the right track! In addition, it allows us to verify whether we need additional preprocessing before further analyzing the text data.</p>\n",
        "<p>Python has a massive number of open libraries! Instead of trying to develop a method to create word clouds ourselves, we'll use Andreas Mueller's <a href=\"http://amueller.github.io/word_cloud/\">wordcloud library</a>.</p>"
      ]
    },
    {
      "cell_type": "code",
      "metadata": {
        "trusted": true,
        "dc": {
          "key": "32"
        },
        "tags": [
          "sample_code"
        ],
        "id": "I5_VIT5R9nzr",
        "outputId": "ae8adf09-3d95-4921-e932-437f5d1d412b"
      },
      "source": [
        "# Import the wordcloud library\n",
        "from wordcloud import WordCloud\n",
        "\n",
        "# Join the different processed titles together.\n",
        "long_string = papers['title_processed'].str.cat(sep=' ')\n",
        "\n",
        "# Create a WordCloud object\n",
        "wordcloud = WordCloud()\n",
        "\n",
        "# Generate a word cloud\n",
        "wordcloud.generate(long_string)\n",
        "\n",
        "# Visualize the word cloud\n",
        "wordcloud.to_image()"
      ],
      "execution_count": null,
      "outputs": [
        {
          "output_type": "execute_result",
          "data": {
            "image/png": "[encoded data removed]",
            "text/plain": [
              "<PIL.Image.Image image mode=RGB size=400x200 at 0x7F5DDC098668>"
            ]
          },
          "metadata": {
            "tags": []
          },
          "execution_count": 23
        }
      ]
    },
    {
      "cell_type": "markdown",
      "metadata": {
        "deletable": false,
        "run_control": {
          "frozen": true
        },
        "dc": {
          "key": "39"
        },
        "tags": [
          "context"
        ],
        "editable": false,
        "id": "7bRXjhNt9nzs"
      },
      "source": [
        "## 6.  Prepare the text for LDA analysis\n",
        "<p>The main text analysis method that we will use is latent Dirichlet allocation (LDA). LDA is able to perform topic detection on large document sets, determining what the main 'topics' are in a large unlabeled set of texts. A 'topic' is a collection of words that tend to co-occur often. The hypothesis is that LDA might be able to clarify what the different topics in the research titles are. These topics can then be used as a starting point for further analysis.</p>\n",
        "<p>LDA does not work directly on text data. First, it is necessary to convert the documents into a simple vector representation. This representation will then be used by LDA to determine the topics. Each entry of a 'document vector' will correspond with the number of times a word occurred in the document. In conclusion, we will convert a list of titles into a list of vectors, all with length equal to the vocabulary. For example, <em>'Analyzing machine learning trends with neural networks.'</em> would be transformed into <code>[1, 0, 1, ..., 1, 0]</code>.</p>\n",
        "<p>We'll then plot the 10 most common words based on the outcome of this operation (the list of document vectors). As a check, these words should also occur in the word cloud.</p>"
      ]
    },
    {
      "cell_type": "code",
      "metadata": {
        "trusted": true,
        "dc": {
          "key": "39"
        },
        "tags": [
          "sample_code"
        ],
        "id": "MbTDiwT09nzt",
        "outputId": "7102a5d4-43aa-444c-8725-7b2cf7eeb12c"
      },
      "source": [
        "# Load the library with the CountVectorizer method\n",
        "from sklearn.feature_extraction.text import CountVectorizer\n",
        "import numpy as np\n",
        "\n",
        "# Helper function\n",
        "def plot_10_most_common_words(count_data, count_vectorizer):\n",
        "    import matplotlib.pyplot as plt\n",
        "    words = count_vectorizer.get_feature_names()\n",
        "    total_counts = np.zeros(len(words))\n",
        "    for t in count_data:\n",
        "        total_counts+=t.toarray()[0]\n",
        "    \n",
        "    count_dict = (zip(words, total_counts))\n",
        "    count_dict = sorted(count_dict, key=lambda x:x[1], reverse=True)[0:10]\n",
        "    words = [w[0] for w in count_dict]\n",
        "    counts = [w[1] for w in count_dict]\n",
        "    x_pos = np.arange(len(words)) \n",
        "\n",
        "    plt.bar(x_pos, counts,align='center')\n",
        "    plt.xticks(x_pos, words, rotation=90) \n",
        "    plt.xlabel('words')\n",
        "    plt.ylabel('counts')\n",
        "    plt.title('10 most common words')\n",
        "    plt.show()\n",
        "\n",
        "# Initialise the count vectorizer with the English stop words\n",
        "count_vectorizer = CountVectorizer(stop_words='english')\n",
        "\n",
        "# Fit and transform the processed titles\n",
        "count_data = count_vectorizer.fit_transform(papers['title_processed'])\n",
        "\n",
        "# Visualise the 10 most common words\n",
        "plot_10_most_common_words(count_data, count_vectorizer)"
      ],
      "execution_count": null,
      "outputs": [
        {
          "output_type": "display_data",
          "data": {
            "image/png": "[encoded data removed]",
            "text/plain": [
              "<Figure size 432x288 with 1 Axes>"
            ]
          },
          "metadata": {
            "tags": []
          }
        }
      ]
    },
    {
      "cell_type": "markdown",
      "metadata": {
        "deletable": false,
        "run_control": {
          "frozen": true
        },
        "dc": {
          "key": "46"
        },
        "tags": [
          "context"
        ],
        "editable": false,
        "id": "47szu_0F9nzt"
      },
      "source": [
        "## 7. Analysing trends with LDA\n",
        "<p>Finally, the research titles will be analyzed using LDA. Note that in order to process a new set of documents (e.g. news articles), a similar set of steps will be required to preprocess the data. The flow that was constructed here can thus easily be exported for a new text dataset.</p>\n",
        "<p>The only parameter we will tweak is the number of topics in the LDA algorithm. Typically, one would calculate the 'perplexity' metric to determine which number of topics is best and iterate over different amounts of topics until the lowest 'perplexity' is found. For now, let's play around with a different number of topics. From there, we can distinguish what each topic is about ('neural networks', 'reinforcement learning', 'kernel methods', 'gaussian processes', etc.).</p>"
      ]
    },
    {
      "cell_type": "code",
      "metadata": {
        "trusted": true,
        "dc": {
          "key": "46"
        },
        "tags": [
          "sample_code"
        ],
        "id": "N13ea_ui9nzu",
        "outputId": "fb00d44e-5ead-4cd9-fd71-9363ebb97550"
      },
      "source": [
        "import warnings\n",
        "warnings.simplefilter(\"ignore\", DeprecationWarning)\n",
        "\n",
        "# Load the LDA model from sk-learn\n",
        "from sklearn.decomposition import LatentDirichletAllocation as LDA\n",
        " \n",
        "# Helper function\n",
        "def print_topics(model, count_vectorizer, n_top_words):\n",
        "    words = count_vectorizer.get_feature_names()\n",
        "    for topic_idx, topic in enumerate(model.components_):\n",
        "        print(\"\\nTopic #%d:\" % topic_idx)\n",
        "        print(\" \".join([words[i]\n",
        "                        for i in topic.argsort()[:-n_top_words - 1:-1]]))\n",
        "        \n",
        "# Tweak the two parameters below (use int values below 15)\n",
        "number_topics = 3\n",
        "number_words = 5\n",
        "\n",
        "# Create and fit the LDA model\n",
        "lda = LDA(n_components=number_topics)\n",
        "lda.fit(count_data)\n",
        "\n",
        "# Print the topics found by the LDA model\n",
        "print(\"Topics found via LDA:\")\n",
        "print_topics(lda, count_vectorizer, number_words)"
      ],
      "execution_count": null,
      "outputs": [
        {
          "output_type": "stream",
          "text": [
            "Topics found via LDA:\n",
            "\n",
            "Topic #0:\n",
            "learning models inference sparse bayesian\n",
            "\n",
            "Topic #1:\n",
            "analysis multi optimization gaussian classification\n",
            "\n",
            "Topic #2:\n",
            "neural networks learning network estimation\n"
          ],
          "name": "stdout"
        }
      ]
    },
    {
      "cell_type": "markdown",
      "metadata": {
        "deletable": false,
        "run_control": {
          "frozen": true
        },
        "dc": {
          "key": "53"
        },
        "tags": [
          "context"
        ],
        "editable": false,
        "id": "0F0ZY9FG9nzv"
      },
      "source": [
        "## 8. The future of machine learning\n",
        "<p>Machine learning has become increasingly popular over the past years. The number of NIPS conference papers has risen exponentially, and people are continuously looking for ways on how they can incorporate machine learning into their products and services.</p>\n",
        "<p>Although this analysis focused on analyzing machine learning trends in research, a lot of these techniques are rapidly being adopted in industry. Following the latest machine learning trends is a critical skill for a data scientist, and it is recommended to continuously keep learning by going through blogs, tutorials, and courses.</p>"
      ]
    },
    {
      "cell_type": "code",
      "metadata": {
        "trusted": true,
        "dc": {
          "key": "53"
        },
        "collapsed": true,
        "tags": [
          "sample_code"
        ],
        "id": "EFMLSozF9nzv"
      },
      "source": [
        "# The historical data indicates that:\n",
        "more_papers_published_in_2018 = True"
      ],
      "execution_count": null,
      "outputs": []
    }
  ]
}